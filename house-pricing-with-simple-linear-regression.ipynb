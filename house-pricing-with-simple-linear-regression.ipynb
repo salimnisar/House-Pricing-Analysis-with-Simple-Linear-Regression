{
 "cells": [
  {
   "cell_type": "markdown",
   "id": "bffd3944",
   "metadata": {
    "papermill": {
     "duration": 0.025727,
     "end_time": "2021-11-07T08:47:20.963301",
     "exception": false,
     "start_time": "2021-11-07T08:47:20.937574",
     "status": "completed"
    },
    "tags": []
   },
   "source": [
    "# House Pricing Analysis with Simple Linear Regression"
   ]
  },
  {
   "cell_type": "code",
   "execution_count": 1,
   "id": "2e69fd03",
   "metadata": {
    "execution": {
     "iopub.execute_input": "2021-11-07T08:47:21.015727Z",
     "iopub.status.busy": "2021-11-07T08:47:21.013912Z",
     "iopub.status.idle": "2021-11-07T08:47:22.011055Z",
     "shell.execute_reply": "2021-11-07T08:47:22.010020Z",
     "shell.execute_reply.started": "2021-11-07T08:33:53.517488Z"
    },
    "papermill": {
     "duration": 1.024696,
     "end_time": "2021-11-07T08:47:22.011238",
     "exception": false,
     "start_time": "2021-11-07T08:47:20.986542",
     "status": "completed"
    },
    "tags": []
   },
   "outputs": [],
   "source": [
    "# Import libraries\n",
    "import pandas as pd\n",
    "import numpy as np\n",
    "import matplotlib.pyplot as plt\n",
    "import seaborn as sns"
   ]
  },
  {
   "cell_type": "code",
   "execution_count": 2,
   "id": "dad901dc",
   "metadata": {
    "execution": {
     "iopub.execute_input": "2021-11-07T08:47:22.065922Z",
     "iopub.status.busy": "2021-11-07T08:47:22.065225Z",
     "iopub.status.idle": "2021-11-07T08:47:22.108984Z",
     "shell.execute_reply": "2021-11-07T08:47:22.109542Z",
     "shell.execute_reply.started": "2021-11-07T08:33:56.739729Z"
    },
    "papermill": {
     "duration": 0.074009,
     "end_time": "2021-11-07T08:47:22.109731",
     "exception": false,
     "start_time": "2021-11-07T08:47:22.035722",
     "status": "completed"
    },
    "tags": []
   },
   "outputs": [],
   "source": [
    "# Import dataset\n",
    "df = pd.read_csv('../input/housedata/data.csv')"
   ]
  },
  {
   "cell_type": "code",
   "execution_count": 3,
   "id": "9ad20e47",
   "metadata": {
    "execution": {
     "iopub.execute_input": "2021-11-07T08:47:22.170033Z",
     "iopub.status.busy": "2021-11-07T08:47:22.168066Z",
     "iopub.status.idle": "2021-11-07T08:47:22.177108Z",
     "shell.execute_reply": "2021-11-07T08:47:22.176383Z",
     "shell.execute_reply.started": "2021-11-07T08:33:59.334914Z"
    },
    "papermill": {
     "duration": 0.0425,
     "end_time": "2021-11-07T08:47:22.177265",
     "exception": false,
     "start_time": "2021-11-07T08:47:22.134765",
     "status": "completed"
    },
    "tags": []
   },
   "outputs": [],
   "source": [
    "# Take the variables that will be used\n",
    "df = df[['price', 'bedrooms', 'bathrooms', 'sqft_living', 'sqft_lot', 'yr_built', 'yr_renovated']]\n",
    "df = df.astype(int)"
   ]
  },
  {
   "cell_type": "code",
   "execution_count": 4,
   "id": "930012db",
   "metadata": {
    "execution": {
     "iopub.execute_input": "2021-11-07T08:47:22.227349Z",
     "iopub.status.busy": "2021-11-07T08:47:22.226642Z",
     "iopub.status.idle": "2021-11-07T08:47:22.351393Z",
     "shell.execute_reply": "2021-11-07T08:47:22.351999Z",
     "shell.execute_reply.started": "2021-11-07T08:34:01.290794Z"
    },
    "papermill": {
     "duration": 0.151685,
     "end_time": "2021-11-07T08:47:22.352264",
     "exception": false,
     "start_time": "2021-11-07T08:47:22.200579",
     "status": "completed"
    },
    "tags": []
   },
   "outputs": [],
   "source": [
    "# Replace yr_built into yr_renovated if the house was renovated\n",
    "def year_built(df):\n",
    "    if df['yr_built'] < df['yr_renovated']:\n",
    "        return df['yr_renovated']\n",
    "    else:\n",
    "        return df['yr_built']\n",
    "    \n",
    "df['year_built'] = df.apply(year_built, axis = 1)"
   ]
  },
  {
   "cell_type": "code",
   "execution_count": 5,
   "id": "bc44de7d",
   "metadata": {
    "execution": {
     "iopub.execute_input": "2021-11-07T08:47:22.403042Z",
     "iopub.status.busy": "2021-11-07T08:47:22.402316Z",
     "iopub.status.idle": "2021-11-07T08:47:22.408681Z",
     "shell.execute_reply": "2021-11-07T08:47:22.408134Z",
     "shell.execute_reply.started": "2021-11-07T08:34:01.982748Z"
    },
    "papermill": {
     "duration": 0.032408,
     "end_time": "2021-11-07T08:47:22.408829",
     "exception": false,
     "start_time": "2021-11-07T08:47:22.376421",
     "status": "completed"
    },
    "tags": []
   },
   "outputs": [],
   "source": [
    "# Drop yr_built and yr_renovated\n",
    "df.drop(columns = ['yr_built', 'yr_renovated'], inplace = True)"
   ]
  },
  {
   "cell_type": "code",
   "execution_count": 6,
   "id": "904f2de2",
   "metadata": {
    "execution": {
     "iopub.execute_input": "2021-11-07T08:47:22.459058Z",
     "iopub.status.busy": "2021-11-07T08:47:22.458409Z",
     "iopub.status.idle": "2021-11-07T08:47:22.464511Z",
     "shell.execute_reply": "2021-11-07T08:47:22.465086Z",
     "shell.execute_reply.started": "2021-11-07T08:34:02.016046Z"
    },
    "papermill": {
     "duration": 0.032503,
     "end_time": "2021-11-07T08:47:22.465269",
     "exception": false,
     "start_time": "2021-11-07T08:47:22.432766",
     "status": "completed"
    },
    "tags": []
   },
   "outputs": [],
   "source": [
    "# Drop the data with price value = 0\n",
    "df.drop(index = df[df['price'] == 0].index, inplace = True)"
   ]
  },
  {
   "cell_type": "code",
   "execution_count": 7,
   "id": "6aa4bb41",
   "metadata": {
    "execution": {
     "iopub.execute_input": "2021-11-07T08:47:22.517924Z",
     "iopub.status.busy": "2021-11-07T08:47:22.517259Z",
     "iopub.status.idle": "2021-11-07T08:47:22.529331Z",
     "shell.execute_reply": "2021-11-07T08:47:22.529827Z",
     "shell.execute_reply.started": "2021-11-07T08:34:05.345498Z"
    },
    "papermill": {
     "duration": 0.041785,
     "end_time": "2021-11-07T08:47:22.530026",
     "exception": false,
     "start_time": "2021-11-07T08:47:22.488241",
     "status": "completed"
    },
    "tags": []
   },
   "outputs": [
    {
     "name": "stdout",
     "output_type": "stream",
     "text": [
      "<class 'pandas.core.frame.DataFrame'>\n",
      "Int64Index: 4551 entries, 0 to 4599\n",
      "Data columns (total 6 columns):\n",
      " #   Column       Non-Null Count  Dtype\n",
      "---  ------       --------------  -----\n",
      " 0   price        4551 non-null   int64\n",
      " 1   bedrooms     4551 non-null   int64\n",
      " 2   bathrooms    4551 non-null   int64\n",
      " 3   sqft_living  4551 non-null   int64\n",
      " 4   sqft_lot     4551 non-null   int64\n",
      " 5   year_built   4551 non-null   int64\n",
      "dtypes: int64(6)\n",
      "memory usage: 248.9 KB\n"
     ]
    }
   ],
   "source": [
    "# Checking the data\n",
    "df.info()"
   ]
  },
  {
   "cell_type": "code",
   "execution_count": 8,
   "id": "3dab1440",
   "metadata": {
    "execution": {
     "iopub.execute_input": "2021-11-07T08:47:22.582427Z",
     "iopub.status.busy": "2021-11-07T08:47:22.581674Z",
     "iopub.status.idle": "2021-11-07T08:47:22.617403Z",
     "shell.execute_reply": "2021-11-07T08:47:22.618057Z",
     "shell.execute_reply.started": "2021-11-07T08:34:05.895520Z"
    },
    "papermill": {
     "duration": 0.063464,
     "end_time": "2021-11-07T08:47:22.618237",
     "exception": false,
     "start_time": "2021-11-07T08:47:22.554773",
     "status": "completed"
    },
    "tags": []
   },
   "outputs": [
    {
     "data": {
      "text/html": [
       "<div>\n",
       "<style scoped>\n",
       "    .dataframe tbody tr th:only-of-type {\n",
       "        vertical-align: middle;\n",
       "    }\n",
       "\n",
       "    .dataframe tbody tr th {\n",
       "        vertical-align: top;\n",
       "    }\n",
       "\n",
       "    .dataframe thead th {\n",
       "        text-align: right;\n",
       "    }\n",
       "</style>\n",
       "<table border=\"1\" class=\"dataframe\">\n",
       "  <thead>\n",
       "    <tr style=\"text-align: right;\">\n",
       "      <th></th>\n",
       "      <th>price</th>\n",
       "      <th>bedrooms</th>\n",
       "      <th>bathrooms</th>\n",
       "      <th>sqft_living</th>\n",
       "      <th>sqft_lot</th>\n",
       "      <th>year_built</th>\n",
       "    </tr>\n",
       "  </thead>\n",
       "  <tbody>\n",
       "    <tr>\n",
       "      <th>count</th>\n",
       "      <td>4.551000e+03</td>\n",
       "      <td>4551.000000</td>\n",
       "      <td>4551.000000</td>\n",
       "      <td>4551.000000</td>\n",
       "      <td>4.551000e+03</td>\n",
       "      <td>4551.000000</td>\n",
       "    </tr>\n",
       "    <tr>\n",
       "      <th>mean</th>\n",
       "      <td>5.579059e+05</td>\n",
       "      <td>3.394639</td>\n",
       "      <td>1.782905</td>\n",
       "      <td>2132.372226</td>\n",
       "      <td>1.483528e+04</td>\n",
       "      <td>1986.942650</td>\n",
       "    </tr>\n",
       "    <tr>\n",
       "      <th>std</th>\n",
       "      <td>5.639299e+05</td>\n",
       "      <td>0.904595</td>\n",
       "      <td>0.744431</td>\n",
       "      <td>955.949708</td>\n",
       "      <td>3.596408e+04</td>\n",
       "      <td>25.422954</td>\n",
       "    </tr>\n",
       "    <tr>\n",
       "      <th>min</th>\n",
       "      <td>7.800000e+03</td>\n",
       "      <td>0.000000</td>\n",
       "      <td>0.000000</td>\n",
       "      <td>370.000000</td>\n",
       "      <td>6.380000e+02</td>\n",
       "      <td>1900.000000</td>\n",
       "    </tr>\n",
       "    <tr>\n",
       "      <th>25%</th>\n",
       "      <td>3.262640e+05</td>\n",
       "      <td>3.000000</td>\n",
       "      <td>1.000000</td>\n",
       "      <td>1460.000000</td>\n",
       "      <td>5.000000e+03</td>\n",
       "      <td>1976.000000</td>\n",
       "    </tr>\n",
       "    <tr>\n",
       "      <th>50%</th>\n",
       "      <td>4.650000e+05</td>\n",
       "      <td>3.000000</td>\n",
       "      <td>2.000000</td>\n",
       "      <td>1970.000000</td>\n",
       "      <td>7.680000e+03</td>\n",
       "      <td>1996.000000</td>\n",
       "    </tr>\n",
       "    <tr>\n",
       "      <th>75%</th>\n",
       "      <td>6.575000e+05</td>\n",
       "      <td>4.000000</td>\n",
       "      <td>2.000000</td>\n",
       "      <td>2610.000000</td>\n",
       "      <td>1.097800e+04</td>\n",
       "      <td>2005.000000</td>\n",
       "    </tr>\n",
       "    <tr>\n",
       "      <th>max</th>\n",
       "      <td>2.659000e+07</td>\n",
       "      <td>9.000000</td>\n",
       "      <td>8.000000</td>\n",
       "      <td>13540.000000</td>\n",
       "      <td>1.074218e+06</td>\n",
       "      <td>2014.000000</td>\n",
       "    </tr>\n",
       "  </tbody>\n",
       "</table>\n",
       "</div>"
      ],
      "text/plain": [
       "              price     bedrooms    bathrooms   sqft_living      sqft_lot  \\\n",
       "count  4.551000e+03  4551.000000  4551.000000   4551.000000  4.551000e+03   \n",
       "mean   5.579059e+05     3.394639     1.782905   2132.372226  1.483528e+04   \n",
       "std    5.639299e+05     0.904595     0.744431    955.949708  3.596408e+04   \n",
       "min    7.800000e+03     0.000000     0.000000    370.000000  6.380000e+02   \n",
       "25%    3.262640e+05     3.000000     1.000000   1460.000000  5.000000e+03   \n",
       "50%    4.650000e+05     3.000000     2.000000   1970.000000  7.680000e+03   \n",
       "75%    6.575000e+05     4.000000     2.000000   2610.000000  1.097800e+04   \n",
       "max    2.659000e+07     9.000000     8.000000  13540.000000  1.074218e+06   \n",
       "\n",
       "        year_built  \n",
       "count  4551.000000  \n",
       "mean   1986.942650  \n",
       "std      25.422954  \n",
       "min    1900.000000  \n",
       "25%    1976.000000  \n",
       "50%    1996.000000  \n",
       "75%    2005.000000  \n",
       "max    2014.000000  "
      ]
     },
     "execution_count": 8,
     "metadata": {},
     "output_type": "execute_result"
    }
   ],
   "source": [
    "# Shows the basic stat of the data\n",
    "df.describe()"
   ]
  },
  {
   "cell_type": "code",
   "execution_count": 9,
   "id": "9fe6b502",
   "metadata": {
    "execution": {
     "iopub.execute_input": "2021-11-07T08:47:22.672883Z",
     "iopub.status.busy": "2021-11-07T08:47:22.672210Z",
     "iopub.status.idle": "2021-11-07T08:47:23.322966Z",
     "shell.execute_reply": "2021-11-07T08:47:23.323492Z",
     "shell.execute_reply.started": "2021-11-07T08:34:05.939307Z"
    },
    "papermill": {
     "duration": 0.680386,
     "end_time": "2021-11-07T08:47:23.323698",
     "exception": false,
     "start_time": "2021-11-07T08:47:22.643312",
     "status": "completed"
    },
    "tags": []
   },
   "outputs": [
    {
     "data": {
      "text/plain": [
       "<AxesSubplot:>"
      ]
     },
     "execution_count": 9,
     "metadata": {},
     "output_type": "execute_result"
    },
    {
     "data": {
      "image/png": "[encoded data removed]",
      "text/plain": [
       "<Figure size 432x288 with 2 Axes>"
      ]
     },
     "metadata": {
      "needs_background": "light"
     },
     "output_type": "display_data"
    }
   ],
   "source": [
    "# Looking correlation bettween the variables\n",
    "sns.heatmap(df.corr(), annot = True)"
   ]
  },
  {
   "cell_type": "code",
   "execution_count": 10,
   "id": "9eaf737e",
   "metadata": {
    "execution": {
     "iopub.execute_input": "2021-11-07T08:47:23.384047Z",
     "iopub.status.busy": "2021-11-07T08:47:23.379622Z",
     "iopub.status.idle": "2021-11-07T08:47:23.734025Z",
     "shell.execute_reply": "2021-11-07T08:47:23.733472Z",
     "shell.execute_reply.started": "2021-11-07T08:37:57.258585Z"
    },
    "papermill": {
     "duration": 0.383301,
     "end_time": "2021-11-07T08:47:23.734185",
     "exception": false,
     "start_time": "2021-11-07T08:47:23.350884",
     "status": "completed"
    },
    "tags": []
   },
   "outputs": [
    {
     "name": "stderr",
     "output_type": "stream",
     "text": [
      "/opt/conda/lib/python3.7/site-packages/seaborn/axisgrid.py:2076: UserWarning: The `size` parameter has been renamed to `height`; please update your code.\n",
      "  warnings.warn(msg, UserWarning)\n"
     ]
    },
    {
     "data": {
      "text/plain": [
       "<Figure size 864x432 with 0 Axes>"
      ]
     },
     "metadata": {},
     "output_type": "display_data"
    },
    {
     "data": {
      "image/png": "[encoded data removed]",
      "text/plain": [
       "<Figure size 504x504 with 1 Axes>"
      ]
     },
     "metadata": {
      "needs_background": "light"
     },
     "output_type": "display_data"
    }
   ],
   "source": [
    "# Shows the plot sqft_living vs price\n",
    "plt.figure(figsize = (12, 6))\n",
    "sns.pairplot(df, x_vars = ['sqft_living'], y_vars = ['price'], size = 7, kind = 'scatter')\n",
    "plt.xlabel('Sqft of Living')\n",
    "plt.ylabel('Price')\n",
    "plt.title('Sqft of living vs price')\n",
    "plt.show()"
   ]
  },
  {
   "cell_type": "code",
   "execution_count": 11,
   "id": "997999e1",
   "metadata": {
    "execution": {
     "iopub.execute_input": "2021-11-07T08:47:23.799289Z",
     "iopub.status.busy": "2021-11-07T08:47:23.798295Z",
     "iopub.status.idle": "2021-11-07T08:47:23.807603Z",
     "shell.execute_reply": "2021-11-07T08:47:23.806923Z",
     "shell.execute_reply.started": "2021-11-07T08:38:12.274628Z"
    },
    "papermill": {
     "duration": 0.040601,
     "end_time": "2021-11-07T08:47:23.807783",
     "exception": false,
     "start_time": "2021-11-07T08:47:23.767182",
     "status": "completed"
    },
    "tags": []
   },
   "outputs": [],
   "source": [
    "# Remove the outliers data\n",
    "df.drop(index = df[df['price'] > 10000000].index, inplace = True)\n",
    "df.drop(index = df[df['sqft_living'] > 12000].index, inplace = True)"
   ]
  },
  {
   "cell_type": "code",
   "execution_count": 12,
   "id": "31a34484",
   "metadata": {
    "execution": {
     "iopub.execute_input": "2021-11-07T08:47:23.874035Z",
     "iopub.status.busy": "2021-11-07T08:47:23.872958Z",
     "iopub.status.idle": "2021-11-07T08:47:24.194691Z",
     "shell.execute_reply": "2021-11-07T08:47:24.194155Z",
     "shell.execute_reply.started": "2021-11-07T08:38:16.090785Z"
    },
    "papermill": {
     "duration": 0.358446,
     "end_time": "2021-11-07T08:47:24.194836",
     "exception": false,
     "start_time": "2021-11-07T08:47:23.836390",
     "status": "completed"
    },
    "tags": []
   },
   "outputs": [
    {
     "name": "stderr",
     "output_type": "stream",
     "text": [
      "/opt/conda/lib/python3.7/site-packages/seaborn/axisgrid.py:2076: UserWarning: The `size` parameter has been renamed to `height`; please update your code.\n",
      "  warnings.warn(msg, UserWarning)\n"
     ]
    },
    {
     "data": {
      "text/plain": [
       "<Figure size 864x432 with 0 Axes>"
      ]
     },
     "metadata": {},
     "output_type": "display_data"
    },
    {
     "data": {
      "image/png": "[encoded data removed]",
      "text/plain": [
       "<Figure size 504x504 with 1 Axes>"
      ]
     },
     "metadata": {
      "needs_background": "light"
     },
     "output_type": "display_data"
    }
   ],
   "source": [
    "# sqft_living vs price without outliers data\n",
    "plt.figure(figsize = (12, 6))\n",
    "sns.pairplot(df, x_vars = ['sqft_living'], y_vars = ['price'], size = 7, kind = 'scatter')\n",
    "plt.xlabel('Sqft of Living')\n",
    "plt.ylabel('Price')\n",
    "plt.title('Sqft of living vs price')\n",
    "plt.show()"
   ]
  },
  {
   "cell_type": "code",
   "execution_count": 13,
   "id": "34ba971a",
   "metadata": {
    "execution": {
     "iopub.execute_input": "2021-11-07T08:47:24.257885Z",
     "iopub.status.busy": "2021-11-07T08:47:24.257185Z",
     "iopub.status.idle": "2021-11-07T08:47:24.441447Z",
     "shell.execute_reply": "2021-11-07T08:47:24.440806Z",
     "shell.execute_reply.started": "2021-11-07T08:38:56.930900Z"
    },
    "papermill": {
     "duration": 0.217131,
     "end_time": "2021-11-07T08:47:24.441604",
     "exception": false,
     "start_time": "2021-11-07T08:47:24.224473",
     "status": "completed"
    },
    "tags": []
   },
   "outputs": [],
   "source": [
    "# Set X and y for before splitting into train test data\n",
    "X = df.drop(columns = ['price'])\n",
    "y = df['price']\n",
    "\n",
    "# Import scikit learn\n",
    "from sklearn.model_selection import train_test_split\n",
    "\n",
    "# Split the data into train and test data\n",
    "X_train, X_test, y_train, y_test = train_test_split(X, y, train_size = 0.7, random_state = 100) "
   ]
  },
  {
   "cell_type": "code",
   "execution_count": 14,
   "id": "9da42861",
   "metadata": {
    "execution": {
     "iopub.execute_input": "2021-11-07T08:47:24.507878Z",
     "iopub.status.busy": "2021-11-07T08:47:24.507186Z",
     "iopub.status.idle": "2021-11-07T08:47:24.513505Z",
     "shell.execute_reply": "2021-11-07T08:47:24.514019Z",
     "shell.execute_reply.started": "2021-11-07T08:45:48.295735Z"
    },
    "papermill": {
     "duration": 0.042488,
     "end_time": "2021-11-07T08:47:24.514210",
     "exception": false,
     "start_time": "2021-11-07T08:47:24.471722",
     "status": "completed"
    },
    "tags": []
   },
   "outputs": [
    {
     "data": {
      "text/plain": [
       "StandardScaler()"
      ]
     },
     "execution_count": 14,
     "metadata": {},
     "output_type": "execute_result"
    }
   ],
   "source": [
    "from sklearn.preprocessing import StandardScaler\n",
    "\n",
    "sc = StandardScaler()\n",
    "sc.fit(X_train)"
   ]
  },
  {
   "cell_type": "code",
   "execution_count": 15,
   "id": "50df56d0",
   "metadata": {
    "execution": {
     "iopub.execute_input": "2021-11-07T08:47:24.582347Z",
     "iopub.status.busy": "2021-11-07T08:47:24.577154Z",
     "iopub.status.idle": "2021-11-07T08:47:24.584323Z",
     "shell.execute_reply": "2021-11-07T08:47:24.584837Z",
     "shell.execute_reply.started": "2021-11-07T08:46:16.599081Z"
    },
    "papermill": {
     "duration": 0.040906,
     "end_time": "2021-11-07T08:47:24.585028",
     "exception": false,
     "start_time": "2021-11-07T08:47:24.544122",
     "status": "completed"
    },
    "tags": []
   },
   "outputs": [],
   "source": [
    "X_train = sc.transform(X_train)\n",
    "X_test = sc.transform(X_test)"
   ]
  },
  {
   "cell_type": "code",
   "execution_count": 16,
   "id": "e2d1631b",
   "metadata": {
    "execution": {
     "iopub.execute_input": "2021-11-07T08:47:24.647932Z",
     "iopub.status.busy": "2021-11-07T08:47:24.647244Z",
     "iopub.status.idle": "2021-11-07T08:47:24.742124Z",
     "shell.execute_reply": "2021-11-07T08:47:24.741382Z",
     "shell.execute_reply.started": "2021-11-07T08:41:55.033406Z"
    },
    "papermill": {
     "duration": 0.127634,
     "end_time": "2021-11-07T08:47:24.742273",
     "exception": false,
     "start_time": "2021-11-07T08:47:24.614639",
     "status": "completed"
    },
    "tags": []
   },
   "outputs": [
    {
     "data": {
      "text/plain": [
       "LinearRegression()"
      ]
     },
     "execution_count": 16,
     "metadata": {},
     "output_type": "execute_result"
    }
   ],
   "source": [
    "# Importing Linear Regression model\n",
    "from sklearn.linear_model import LinearRegression, Ridge, Lasso\n",
    "\n",
    "# Fitting the model\n",
    "lr = LinearRegression()\n",
    "lr.fit(X_train, y_train)"
   ]
  },
  {
   "cell_type": "code",
   "execution_count": 17,
   "id": "740439d7",
   "metadata": {
    "execution": {
     "iopub.execute_input": "2021-11-07T08:47:24.806107Z",
     "iopub.status.busy": "2021-11-07T08:47:24.805436Z",
     "iopub.status.idle": "2021-11-07T08:47:24.808831Z",
     "shell.execute_reply": "2021-11-07T08:47:24.809352Z",
     "shell.execute_reply.started": "2021-11-07T08:41:56.925120Z"
    },
    "papermill": {
     "duration": 0.037094,
     "end_time": "2021-11-07T08:47:24.809519",
     "exception": false,
     "start_time": "2021-11-07T08:47:24.772425",
     "status": "completed"
    },
    "tags": []
   },
   "outputs": [],
   "source": [
    "# Predicting the price for the test value\n",
    "y_pred = lr.predict(X_test)"
   ]
  },
  {
   "cell_type": "code",
   "execution_count": 18,
   "id": "bc872cef",
   "metadata": {
    "execution": {
     "iopub.execute_input": "2021-11-07T08:47:24.875628Z",
     "iopub.status.busy": "2021-11-07T08:47:24.874955Z",
     "iopub.status.idle": "2021-11-07T08:47:24.876511Z",
     "shell.execute_reply": "2021-11-07T08:47:24.877014Z",
     "shell.execute_reply.started": "2021-11-07T08:41:56.939723Z"
    },
    "papermill": {
     "duration": 0.037019,
     "end_time": "2021-11-07T08:47:24.877190",
     "exception": false,
     "start_time": "2021-11-07T08:47:24.840171",
     "status": "completed"
    },
    "tags": []
   },
   "outputs": [],
   "source": [
    "# Importing metrics for model evaluation\n",
    "from sklearn.metrics import r2_score, mean_squared_error"
   ]
  },
  {
   "cell_type": "code",
   "execution_count": 19,
   "id": "2c56671d",
   "metadata": {
    "execution": {
     "iopub.execute_input": "2021-11-07T08:47:24.939953Z",
     "iopub.status.busy": "2021-11-07T08:47:24.939306Z",
     "iopub.status.idle": "2021-11-07T08:47:24.943140Z",
     "shell.execute_reply": "2021-11-07T08:47:24.943639Z",
     "shell.execute_reply.started": "2021-11-07T08:41:59.736049Z"
    },
    "papermill": {
     "duration": 0.03669,
     "end_time": "2021-11-07T08:47:24.943820",
     "exception": false,
     "start_time": "2021-11-07T08:47:24.907130",
     "status": "completed"
    },
    "tags": []
   },
   "outputs": [],
   "source": [
    "# Calculate mMean squuare error\n",
    "mse = mean_squared_error(y_test, y_pred)"
   ]
  },
  {
   "cell_type": "code",
   "execution_count": 20,
   "id": "a2eac350",
   "metadata": {
    "execution": {
     "iopub.execute_input": "2021-11-07T08:47:25.007979Z",
     "iopub.status.busy": "2021-11-07T08:47:25.007299Z",
     "iopub.status.idle": "2021-11-07T08:47:25.011401Z",
     "shell.execute_reply": "2021-11-07T08:47:25.011946Z",
     "shell.execute_reply.started": "2021-11-07T08:42:00.645916Z"
    },
    "papermill": {
     "duration": 0.037815,
     "end_time": "2021-11-07T08:47:25.012134",
     "exception": false,
     "start_time": "2021-11-07T08:47:24.974319",
     "status": "completed"
    },
    "tags": []
   },
   "outputs": [],
   "source": [
    "# Calculate R square value\n",
    "r2 = r2_score(y_test, y_pred)"
   ]
  },
  {
   "cell_type": "code",
   "execution_count": 21,
   "id": "1756ccd3",
   "metadata": {
    "execution": {
     "iopub.execute_input": "2021-11-07T08:47:25.077052Z",
     "iopub.status.busy": "2021-11-07T08:47:25.076373Z",
     "iopub.status.idle": "2021-11-07T08:47:25.081974Z",
     "shell.execute_reply": "2021-11-07T08:47:25.081311Z",
     "shell.execute_reply.started": "2021-11-07T08:42:01.583027Z"
    },
    "papermill": {
     "duration": 0.038719,
     "end_time": "2021-11-07T08:47:25.082174",
     "exception": false,
     "start_time": "2021-11-07T08:47:25.043455",
     "status": "completed"
    },
    "tags": []
   },
   "outputs": [
    {
     "name": "stdout",
     "output_type": "stream",
     "text": [
      "Mean squared error :  77480562521.52122\n",
      "r square :  0.5161381464930981\n"
     ]
    }
   ],
   "source": [
    "print('Mean squared error : ', mse)\n",
    "print('r square : ', r2)"
   ]
  },
  {
   "cell_type": "code",
   "execution_count": 22,
   "id": "3ebd72ad",
   "metadata": {
    "execution": {
     "iopub.execute_input": "2021-11-07T08:47:25.148126Z",
     "iopub.status.busy": "2021-11-07T08:47:25.147383Z",
     "iopub.status.idle": "2021-11-07T08:47:25.151080Z",
     "shell.execute_reply": "2021-11-07T08:47:25.151612Z",
     "shell.execute_reply.started": "2021-11-07T08:42:01.599593Z"
    },
    "papermill": {
     "duration": 0.039137,
     "end_time": "2021-11-07T08:47:25.151787",
     "exception": false,
     "start_time": "2021-11-07T08:47:25.112650",
     "status": "completed"
    },
    "tags": []
   },
   "outputs": [
    {
     "name": "stdout",
     "output_type": "stream",
     "text": [
      "Intercept of the model :  542554.3220232485\n",
      "Coefficient of the line :  [-53955.59637531  17330.28524968 275266.29514029 -23068.62355252\n",
      " -37641.39639931]\n"
     ]
    }
   ],
   "source": [
    "# Intercept and coeff of the line\n",
    "print('Intercept of the model : ', lr.intercept_)\n",
    "print('Coefficient of the line : ', lr.coef_)"
   ]
  },
  {
   "cell_type": "markdown",
   "id": "486a33f9",
   "metadata": {
    "papermill": {
     "duration": 0.031268,
     "end_time": "2021-11-07T08:47:25.213790",
     "exception": false,
     "start_time": "2021-11-07T08:47:25.182522",
     "status": "completed"
    },
    "tags": []
   },
   "source": [
    "<b>Conclussion<b/>\n",
    "    \n",
    "Our house predicting model by using Linear Regression doesn't have a good accuracy, which is only 51,61%. This model should be improved.\n",
    "    \n",
    "The equation of the line is as follows :\n",
    "    \n",
    "<b>y = 3018251.06 + (-6.07524762e+04 X1) + (2.38002469e+04 X2) + (2.98736933e+02 X3) + (-5.94362127e-01 X4) + (-1.47596702e+03 X5)<b/>\n"
   ]
  },
  {
   "cell_type": "code",
   "execution_count": 23,
   "id": "b72fcd5d",
   "metadata": {
    "execution": {
     "iopub.execute_input": "2021-11-07T08:47:25.278887Z",
     "iopub.status.busy": "2021-11-07T08:47:25.278217Z",
     "iopub.status.idle": "2021-11-07T08:47:27.305043Z",
     "shell.execute_reply": "2021-11-07T08:47:27.304264Z",
     "shell.execute_reply.started": "2021-11-07T08:46:23.869571Z"
    },
    "papermill": {
     "duration": 2.060854,
     "end_time": "2021-11-07T08:47:27.305264",
     "exception": false,
     "start_time": "2021-11-07T08:47:25.244410",
     "status": "completed"
    },
    "tags": []
   },
   "outputs": [
    {
     "data": {
      "text/plain": [
       "RandomForestRegressor(n_estimators=300, n_jobs=10)"
      ]
     },
     "execution_count": 23,
     "metadata": {},
     "output_type": "execute_result"
    }
   ],
   "source": [
    "from sklearn.ensemble import RandomForestRegressor\n",
    "\n",
    "rf = RandomForestRegressor(n_estimators=300, n_jobs=10)\n",
    "rf.fit(X_train, y_train)"
   ]
  },
  {
   "cell_type": "code",
   "execution_count": 24,
   "id": "f60ac71b",
   "metadata": {
    "execution": {
     "iopub.execute_input": "2021-11-07T08:47:27.373672Z",
     "iopub.status.busy": "2021-11-07T08:47:27.372565Z",
     "iopub.status.idle": "2021-11-07T08:47:27.478140Z",
     "shell.execute_reply": "2021-11-07T08:47:27.478638Z",
     "shell.execute_reply.started": "2021-11-07T08:46:27.349583Z"
    },
    "papermill": {
     "duration": 0.142427,
     "end_time": "2021-11-07T08:47:27.478825",
     "exception": false,
     "start_time": "2021-11-07T08:47:27.336398",
     "status": "completed"
    },
    "tags": []
   },
   "outputs": [],
   "source": [
    "y_pred = rf.predict(X_test)"
   ]
  },
  {
   "cell_type": "code",
   "execution_count": 25,
   "id": "b2ecded7",
   "metadata": {
    "execution": {
     "iopub.execute_input": "2021-11-07T08:47:27.547625Z",
     "iopub.status.busy": "2021-11-07T08:47:27.546521Z",
     "iopub.status.idle": "2021-11-07T08:47:27.551395Z",
     "shell.execute_reply": "2021-11-07T08:47:27.551848Z",
     "shell.execute_reply.started": "2021-11-07T08:46:29.795501Z"
    },
    "papermill": {
     "duration": 0.041478,
     "end_time": "2021-11-07T08:47:27.552041",
     "exception": false,
     "start_time": "2021-11-07T08:47:27.510563",
     "status": "completed"
    },
    "tags": []
   },
   "outputs": [
    {
     "name": "stdout",
     "output_type": "stream",
     "text": [
      "Mean squared error :  76070906635.46835\n",
      "r square :  0.524941370006647\n"
     ]
    }
   ],
   "source": [
    "mse = mean_squared_error(y_test, y_pred)\n",
    "r2 = r2_score(y_test, y_pred)\n",
    "print('Mean squared error : ', mse)\n",
    "print('r square : ', r2)"
   ]
  },
  {
   "cell_type": "code",
   "execution_count": 26,
   "id": "9638b2fc",
   "metadata": {
    "execution": {
     "iopub.execute_input": "2021-11-07T08:47:27.620258Z",
     "iopub.status.busy": "2021-11-07T08:47:27.619237Z",
     "iopub.status.idle": "2021-11-07T08:47:27.623755Z",
     "shell.execute_reply": "2021-11-07T08:47:27.623199Z",
     "shell.execute_reply.started": "2021-11-07T08:46:32.839994Z"
    },
    "papermill": {
     "duration": 0.040854,
     "end_time": "2021-11-07T08:47:27.623934",
     "exception": false,
     "start_time": "2021-11-07T08:47:27.583080",
     "status": "completed"
    },
    "tags": []
   },
   "outputs": [
    {
     "name": "stdout",
     "output_type": "stream",
     "text": [
      "Intercept of the model :  542554.3220232485\n",
      "Coefficient of the line :  [-53955.59637531  17330.28524968 275266.29514029 -23068.62355252\n",
      " -37641.39639931]\n"
     ]
    }
   ],
   "source": [
    "print('Intercept of the model : ', lr.intercept_)\n",
    "print('Coefficient of the line : ', lr.coef_)"
   ]
  },
  {
   "cell_type": "code",
   "execution_count": null,
   "id": "9d556c1d",
   "metadata": {
    "papermill": {
     "duration": 0.031114,
     "end_time": "2021-11-07T08:47:27.687568",
     "exception": false,
     "start_time": "2021-11-07T08:47:27.656454",
     "status": "completed"
    },
    "tags": []
   },
   "outputs": [],
   "source": []
  }
 ],
 "metadata": {
  "kernelspec": {
   "display_name": "Python 3",
   "language": "python",
   "name": "python3"
  },
  "language_info": {
   "codemirror_mode": {
    "name": "ipython",
    "version": 3
   },
   "file_extension": ".py",
   "mimetype": "text/x-python",
   "name": "python",
   "nbconvert_exporter": "python",
   "pygments_lexer": "ipython3",
   "version": "3.8.8"
  },
  "papermill": {
   "default_parameters": {},
   "duration": 17.228802,
   "end_time": "2021-11-07T08:47:28.431549",
   "environment_variables": {},
   "exception": null,
   "input_path": "__notebook__.ipynb",
   "output_path": "__notebook__.ipynb",
   "parameters": {},
   "start_time": "2021-11-07T08:47:11.202747",
   "version": "2.3.3"
  }
 },
 "nbformat": 4,
 "nbformat_minor": 5
}
